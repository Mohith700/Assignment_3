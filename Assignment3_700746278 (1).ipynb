{
  "nbformat": 4,
  "nbformat_minor": 0,
  "metadata": {
    "colab": {
      "provenance": []
    },
    "kernelspec": {
      "name": "python3",
      "display_name": "Python 3"
    },
    "language_info": {
      "name": "python"
    }
  },
  "cells": [
    {
      "cell_type": "code",
      "execution_count": 7,
      "metadata": {
        "colab": {
          "base_uri": "https://localhost:8080/"
        },
        "id": "BqguKnC37bu0",
        "outputId": "666aa0f5-3ae5-4fe4-eeaa-23173ca0b54a"
      },
      "outputs": [
        {
          "output_type": "stream",
          "name": "stdout",
          "text": [
            "Employee 1: \n",
            "Enter name: Mohith\n",
            "Family Members: 4\n",
            "Employee Salary: 5000\n",
            "Employee Department: IT\n",
            "Employee 2: \n",
            "Enter name: Jay\n",
            "Family Members: 4\n",
            "Employee Salary: 10000\n",
            "Employee Department: Electric\n",
            "Full Time Employee 1: \n",
            "Enter name: Deva\n",
            "Family Members: 4\n",
            "Employee Salary: 100000\n",
            "Employee Department: Police\n",
            "\n",
            "Number of employees:  3\n",
            "Avgerage salary  : 7500.0\n"
          ]
        }
      ],
      "source": [
        "class Employee:\n",
        "    numberOfEmployees = 0\n",
        "\n",
        "    def __init__(self, name, family, salary, department):\n",
        "        self.name = name\n",
        "        self.family = family\n",
        "        self.salary = salary\n",
        "        self.department = department\n",
        "        Employee.numberOfEmployees+=1\n",
        "\n",
        "\n",
        "def averagesalary(employee):\n",
        "    total = sum(e.salary for e in employee)\n",
        "    average = total / len(employee)\n",
        "    return average\n",
        "\n",
        "class Full_time_Employee(Employee):\n",
        "    def __init__(self, name, family, salary, department):\n",
        "        Employee.__init__(self,name, family, salary, department)\n",
        "\n",
        "print(\"Employee 1: \")\n",
        "employee_1 = Employee(input(\"Enter name: \"),input(\"Family Members: \"),int(input(\"Employee Salary: \")),input(\"Employee Department: \"))\n",
        "print(\"Employee 2: \")\n",
        "employee_2 = Employee(input(\"Enter name: \"),input(\"Family Members: \"),int(input(\"Employee Salary: \")),input(\"Employee Department: \"))\n",
        "print(\"Full Time Employee 1: \")\n",
        "employee_3 = Full_time_Employee(input(\"Enter name: \"),input(\"Family Members: \"),int(input(\"Employee Salary: \")),input(\"Employee Department: \"))\n",
        "print(\"\")\n",
        "print(\"Number of employees: \",Employee.numberOfEmployees)\n",
        "list_of_Employees = [employee_1, employee_2]\n",
        "avgsalary = averagesalary(list_of_Employees)\n",
        "print(\"Avgerage salary  :\", avgsalary)\n"
      ]
    },
    {
      "cell_type": "code",
      "source": [
        "import numpy\n",
        "\n",
        "temp_vector = numpy.random.uniform(1, 20, 20)\n",
        "print(temp_vector)\n",
        "print(\"\")\n",
        "print(\"\")\n",
        "New_array = temp_vector.reshape(4, 5)\n",
        "print(\"\")\n",
        "print(\"\")\n",
        "print(New_array)\n",
        "New_array[numpy.arange(4), numpy.argmax(New_array, axis=1)] = 0\n",
        "print(\"\")\n",
        "print(\"\")\n",
        "print(New_array)"
      ],
      "metadata": {
        "colab": {
          "base_uri": "https://localhost:8080/"
        },
        "id": "o4Pf4Mp29Xcr",
        "outputId": "c9e8799c-009b-4820-bf6f-dff1e0640032"
      },
      "execution_count": 5,
      "outputs": [
        {
          "output_type": "stream",
          "name": "stdout",
          "text": [
            "[19.23639968 11.78917247  8.07295761 14.21125584  7.1408186   2.66753786\n",
            " 11.79674164 15.60501677 11.38617195 11.09363231  5.74513624  1.87293712\n",
            "  6.24125912 10.4757783   6.4176995   2.21999525  2.55973975  6.20468367\n",
            "  2.93293574  3.13470877]\n",
            "\n",
            "\n",
            "\n",
            "\n",
            "[[19.23639968 11.78917247  8.07295761 14.21125584  7.1408186 ]\n",
            " [ 2.66753786 11.79674164 15.60501677 11.38617195 11.09363231]\n",
            " [ 5.74513624  1.87293712  6.24125912 10.4757783   6.4176995 ]\n",
            " [ 2.21999525  2.55973975  6.20468367  2.93293574  3.13470877]]\n",
            "\n",
            "\n",
            "[[ 0.         11.78917247  8.07295761 14.21125584  7.1408186 ]\n",
            " [ 2.66753786 11.79674164  0.         11.38617195 11.09363231]\n",
            " [ 5.74513624  1.87293712  6.24125912  0.          6.4176995 ]\n",
            " [ 2.21999525  2.55973975  0.          2.93293574  3.13470877]]\n"
          ]
        }
      ]
    }
  ]
}